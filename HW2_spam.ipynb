{
 "cells": [
  {
   "cell_type": "code",
   "execution_count": 27,
   "metadata": {
    "collapsed": false
   },
   "outputs": [],
   "source": [
    "import csv\n",
    "import pandas as pd\n",
    "import numpy as np\n",
    "import matplotlib.pyplot as plt\n",
    "from nltk import word_tokenize, wordpunct_tokenize\n",
    "\n",
    "from sklearn.feature_extraction.text import CountVectorizer, TfidfVectorizer\n",
    "from sklearn.naive_bayes import MultinomialNB\n",
    "from sklearn.metrics import classification_report, f1_score, accuracy_score, confusion_matrix\n",
    "from sklearn.pipeline import Pipeline\n",
    "from sklearn.model_selection import StratifiedKFold, cross_val_score, cross_val_predict, train_test_split, learning_curve\n",
    "from sklearn.tree import DecisionTreeClassifier\n",
    "from sklearn.ensemble import RandomForestClassifier\n",
    "\n",
    "from nltk.stem.porter import PorterStemmer\n",
    "from nltk.stem import WordNetLemmatizer \n",
    "\n",
    "\n",
    "path = 'C:/Users/S451/Desktop/nlp/06.03_ml_hw_pr/smsspamcollection/SMSSpamCollection'\n",
    "messages = pd.read_csv(path, sep='\\t', names=[\"label\", \"message\"])"
   ]
  },
  {
   "cell_type": "markdown",
   "metadata": {},
   "source": [
    "# 1 задание"
   ]
  },
  {
   "cell_type": "code",
   "execution_count": 2,
   "metadata": {
    "collapsed": false
   },
   "outputs": [
    {
     "data": {
      "text/html": [
       "<div>\n",
       "<table border=\"1\" class=\"dataframe\">\n",
       "  <thead>\n",
       "    <tr style=\"text-align: right;\">\n",
       "      <th></th>\n",
       "      <th></th>\n",
       "      <th>message</th>\n",
       "    </tr>\n",
       "    <tr>\n",
       "      <th>label</th>\n",
       "      <th></th>\n",
       "      <th></th>\n",
       "    </tr>\n",
       "  </thead>\n",
       "  <tbody>\n",
       "    <tr>\n",
       "      <th rowspan=\"4\" valign=\"top\">ham</th>\n",
       "      <th>count</th>\n",
       "      <td>4825</td>\n",
       "    </tr>\n",
       "    <tr>\n",
       "      <th>unique</th>\n",
       "      <td>4516</td>\n",
       "    </tr>\n",
       "    <tr>\n",
       "      <th>top</th>\n",
       "      <td>Sorry, I'll call later</td>\n",
       "    </tr>\n",
       "    <tr>\n",
       "      <th>freq</th>\n",
       "      <td>30</td>\n",
       "    </tr>\n",
       "    <tr>\n",
       "      <th rowspan=\"4\" valign=\"top\">spam</th>\n",
       "      <th>count</th>\n",
       "      <td>747</td>\n",
       "    </tr>\n",
       "    <tr>\n",
       "      <th>unique</th>\n",
       "      <td>653</td>\n",
       "    </tr>\n",
       "    <tr>\n",
       "      <th>top</th>\n",
       "      <td>Please call our customer service representativ...</td>\n",
       "    </tr>\n",
       "    <tr>\n",
       "      <th>freq</th>\n",
       "      <td>4</td>\n",
       "    </tr>\n",
       "  </tbody>\n",
       "</table>\n",
       "</div>"
      ],
      "text/plain": [
       "                                                        message\n",
       "label                                                          \n",
       "ham   count                                                4825\n",
       "      unique                                               4516\n",
       "      top                                Sorry, I'll call later\n",
       "      freq                                                   30\n",
       "spam  count                                                 747\n",
       "      unique                                                653\n",
       "      top     Please call our customer service representativ...\n",
       "      freq                                                    4"
      ]
     },
     "execution_count": 2,
     "metadata": {},
     "output_type": "execute_result"
    }
   ],
   "source": [
    "messages.groupby('label').describe()"
   ]
  },
  {
   "cell_type": "markdown",
   "metadata": {},
   "source": [
    "Выборка несбалансирована: 4825 сообщений ham и 747 сообщений spam\n",
    "DummyCassifier в этом случае будет помечать как ham каждое сообщение, что, конечно, дает хорошую точность, но с задачей определения спама не справляется"
   ]
  },
  {
   "cell_type": "code",
   "execution_count": 3,
   "metadata": {
    "collapsed": false
   },
   "outputs": [],
   "source": [
    "from sklearn.utils import shuffle\n",
    "\n",
    "training_set_spam = messages[messages['label'] == 'spam'][:700]\n",
    "training_set_ham = messages[messages['label'] == 'ham'][:700]\n",
    "training_set = pd.concat([training_set_spam, training_set_ham])\n",
    "training_set = shuffle(training_set)"
   ]
  },
  {
   "cell_type": "code",
   "execution_count": 4,
   "metadata": {
    "collapsed": false
   },
   "outputs": [],
   "source": [
    "def model(parameter_name, parameter, training_set):\n",
    "    if parameter_name == '0':\n",
    "        bow = CountVectorizer()\n",
    "    elif parameter_name == 't':\n",
    "        bow = CountVectorizer(tokenizer=parameter)\n",
    "    elif parameter_name == 'sw':\n",
    "        bow = CountVectorizer(stop_words='english')\n",
    "    elif parameter_name == 'min_df':\n",
    "        bow = CountVectorizer(min_df=parameter)\n",
    "    elif parameter_name == 'max_df':\n",
    "        bow = CountVectorizer(max_df=parameter)\n",
    "    elif parameter_name == 'vectorizer':\n",
    "        bow = TfidfVectorizer()\n",
    "    \n",
    "    bow.fit_transform(training_set['message'])\n",
    "\n",
    "    bowed_messages = bow.transform(training_set['message'])\n",
    "\n",
    "    naive_model = MultinomialNB()\n",
    "    naive_model.fit(bowed_messages, training_set['label'])\n",
    "\n",
    "    label_pred = naive_model.predict(bowed_messages)\n",
    "    cv_results = cross_val_score(naive_model, bowed_messages, training_set['label'], cv=10, scoring='accuracy')\n",
    "    return [round(cv_results.mean(), 3), round(cv_results.std(), 3)]"
   ]
  },
  {
   "cell_type": "code",
   "execution_count": 5,
   "metadata": {
    "collapsed": false
   },
   "outputs": [
    {
     "name": "stdout",
     "output_type": "stream",
     "text": [
      "[0.95899999999999996, 0.021999999999999999]\n"
     ]
    }
   ],
   "source": [
    "print(model('0', 0, training_set))"
   ]
  },
  {
   "cell_type": "markdown",
   "metadata": {
    "collapsed": true
   },
   "source": [
    "1) разная токенизация: в одном случае знаки препинания удалять, в другом — считать их токенами"
   ]
  },
  {
   "cell_type": "code",
   "execution_count": 6,
   "metadata": {
    "collapsed": false
   },
   "outputs": [
    {
     "name": "stdout",
     "output_type": "stream",
     "text": [
      "[0.95799999999999996, 0.02]\n"
     ]
    }
   ],
   "source": [
    "print(model('t', word_tokenize, training_set))"
   ]
  },
  {
   "cell_type": "code",
   "execution_count": 7,
   "metadata": {
    "collapsed": false
   },
   "outputs": [
    {
     "name": "stdout",
     "output_type": "stream",
     "text": [
      "[0.97299999999999998, 0.016]\n"
     ]
    }
   ],
   "source": [
    "print(model('t', wordpunct_tokenize, training_set))"
   ]
  },
  {
   "cell_type": "markdown",
   "metadata": {},
   "source": [
    "При подсчете знаков препинания результат улучшился"
   ]
  },
  {
   "cell_type": "markdown",
   "metadata": {},
   "source": [
    "2) лемматизация (отсутствие лемматизации, стемминг, лемматизация)"
   ]
  },
  {
   "cell_type": "code",
   "execution_count": 8,
   "metadata": {
    "collapsed": true
   },
   "outputs": [],
   "source": [
    "stemmer = PorterStemmer()\n",
    "\n",
    "def stemming(text):\n",
    "    text = wordpunct_tokenize(text.lower())\n",
    "    return [stemmer.stem(i) for i in text]"
   ]
  },
  {
   "cell_type": "code",
   "execution_count": 9,
   "metadata": {
    "collapsed": true
   },
   "outputs": [],
   "source": [
    "lem = WordNetLemmatizer()\n",
    "\n",
    "def lemming(text):\n",
    "    text = wordpunct_tokenize(text.lower())\n",
    "    return [lem.lemmatize(i) for i in text]"
   ]
  },
  {
   "cell_type": "code",
   "execution_count": 10,
   "metadata": {
    "collapsed": false
   },
   "outputs": [
    {
     "name": "stdout",
     "output_type": "stream",
     "text": [
      "[0.97199999999999998, 0.017000000000000001]\n"
     ]
    }
   ],
   "source": [
    "print(model('t', stemming, training_set))"
   ]
  },
  {
   "cell_type": "code",
   "execution_count": 11,
   "metadata": {
    "collapsed": false
   },
   "outputs": [
    {
     "name": "stdout",
     "output_type": "stream",
     "text": [
      "[0.97399999999999998, 0.016]\n"
     ]
    }
   ],
   "source": [
    "print(model('t', lemming, training_set))"
   ]
  },
  {
   "cell_type": "markdown",
   "metadata": {},
   "source": [
    "Стемминг и лемминг дают примерно одинаковый результат результат"
   ]
  },
  {
   "cell_type": "markdown",
   "metadata": {},
   "source": [
    "3) удаление стоп-слов, а также пороги минимальной и максимальной document frequency"
   ]
  },
  {
   "cell_type": "code",
   "execution_count": 12,
   "metadata": {
    "collapsed": false
   },
   "outputs": [
    {
     "name": "stdout",
     "output_type": "stream",
     "text": [
      "[0.95099999999999996, 0.021000000000000001]\n"
     ]
    }
   ],
   "source": [
    "print(model('sw', 0, training_set))"
   ]
  },
  {
   "cell_type": "code",
   "execution_count": 13,
   "metadata": {
    "collapsed": false
   },
   "outputs": [
    {
     "name": "stdout",
     "output_type": "stream",
     "text": [
      "[0.95699999999999996, 0.016]\n"
     ]
    }
   ],
   "source": [
    "print(model('min_df', 3, training_set))"
   ]
  },
  {
   "cell_type": "code",
   "execution_count": 14,
   "metadata": {
    "collapsed": false
   },
   "outputs": [
    {
     "name": "stdout",
     "output_type": "stream",
     "text": [
      "[0.95799999999999996, 0.021000000000000001]\n"
     ]
    }
   ],
   "source": [
    "print(model('max_df', 0.3, training_set))"
   ]
  },
  {
   "cell_type": "markdown",
   "metadata": {},
   "source": [
    "все это плохо сказывается на результате (хуже, чем было)"
   ]
  },
  {
   "cell_type": "markdown",
   "metadata": {},
   "source": [
    "4) векторизация документов (CountVectorizer vs. TfIdfVectorizer)"
   ]
  },
  {
   "cell_type": "code",
   "execution_count": 15,
   "metadata": {
    "collapsed": false
   },
   "outputs": [
    {
     "name": "stdout",
     "output_type": "stream",
     "text": [
      "[0.95999999999999996, 0.021999999999999999]\n"
     ]
    }
   ],
   "source": [
    "print(model('vectorizer', 0, training_set))"
   ]
  },
  {
   "cell_type": "markdown",
   "metadata": {},
   "source": [
    "тоже не так хорошо"
   ]
  },
  {
   "cell_type": "markdown",
   "metadata": {},
   "source": [
    "# 2 задание"
   ]
  },
  {
   "cell_type": "code",
   "execution_count": 29,
   "metadata": {
    "collapsed": false
   },
   "outputs": [
    {
     "name": "stdout",
     "output_type": "stream",
     "text": [
      "             precision    recall  f1-score   support\n",
      "\n",
      "        Ham       0.94      0.94      0.94       700\n",
      "       Spam       0.94      0.94      0.94       700\n",
      "\n",
      "avg / total       0.94      0.94      0.94      1400\n",
      "\n"
     ]
    }
   ],
   "source": [
    "bow = CountVectorizer(tokenizer=wordpunct_tokenize)\n",
    "bow.fit_transform(training_set['message'])\n",
    "bowed_messages = bow.transform(training_set['message'])\n",
    "\n",
    "clf = DecisionTreeClassifier()\n",
    "clf.fit(bowed_messages, training_set['label'])\n",
    "pred = cross_val_predict(clf, bowed_messages, training_set['label'], cv=10)\n",
    "print(classification_report(training_set['label'], pred, target_names=['Ham', 'Spam']))"
   ]
  },
  {
   "cell_type": "code",
   "execution_count": 30,
   "metadata": {
    "collapsed": false
   },
   "outputs": [
    {
     "name": "stdout",
     "output_type": "stream",
     "text": [
      "             precision    recall  f1-score   support\n",
      "\n",
      "        Ham       0.92      0.99      0.95       700\n",
      "       Spam       0.99      0.91      0.95       700\n",
      "\n",
      "avg / total       0.96      0.95      0.95      1400\n",
      "\n"
     ]
    }
   ],
   "source": [
    "rfcl = RandomForestClassifier()\n",
    "rfcl.fit(bowed_messages, training_set['label'])\n",
    "pred = cross_val_predict(rfcl, bowed_messages, training_set['label'], cv=10)\n",
    "print(classification_report(training_set['label'], pred, target_names=['Ham', 'Spam']))"
   ]
  },
  {
   "cell_type": "markdown",
   "metadata": {},
   "source": [
    "Деревья и random forest хуже, чем Байес. А random forest лучше, чем деревья"
   ]
  },
  {
   "cell_type": "code",
   "execution_count": null,
   "metadata": {
    "collapsed": true
   },
   "outputs": [],
   "source": []
  }
 ],
 "metadata": {
  "kernelspec": {
   "display_name": "Python 3",
   "language": "python",
   "name": "python3"
  },
  "language_info": {
   "codemirror_mode": {
    "name": "ipython",
    "version": 3
   },
   "file_extension": ".py",
   "mimetype": "text/x-python",
   "name": "python",
   "nbconvert_exporter": "python",
   "pygments_lexer": "ipython3",
   "version": "3.6.0"
  }
 },
 "nbformat": 4,
 "nbformat_minor": 2
}
